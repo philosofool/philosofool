{
 "cells": [
  {
   "cell_type": "code",
   "execution_count": 5,
   "metadata": {},
   "outputs": [
    {
     "data": {
      "text/plain": [
       "array([[0.99, 0.01],\n",
       "       [0.9 , 0.1 ],\n",
       "       [0.31, 0.69]])"
      ]
     },
     "execution_count": 5,
     "metadata": {},
     "output_type": "execute_result"
    }
   ],
   "source": [
    "import numpy as np\n",
    "\n",
    "species = np.array([[1, 0, 0], [0, 1, 0], [0, 0, 1]])\n",
    "species_to_genus = np.array([[1, 1, 0], [0, 0, 1]])\n",
    "genus = species @ species_to_genus.T\n",
    "species_pred = np.array([[.9, .09, .01], [.2, .7, .1], [.3, .01, .69]])\n",
    "species_pred @ species_to_genus.T\n",
    "\n",
    "def loss(species, species_pred, alpha):\n",
    "    species_loss = softmax(species, species_pred)\n",
    "    genus_loss = softmax(species @ species_to_genus, species_pred @ species_to_genus)\n",
    "    return species_loss + alpha * genus_loss"
   ]
  },
  {
   "cell_type": "code",
   "execution_count": 1,
   "metadata": {},
   "outputs": [
    {
     "data": {
      "text/plain": [
       "torch.Size([1, 3, 64, 64])"
      ]
     },
     "execution_count": 1,
     "metadata": {},
     "output_type": "execute_result"
    }
   ],
   "source": [
    "import torch\n",
    "from torch import nn\n",
    "\n",
    "from philosofool.torch.nn_models import Generator, Discriminator\n",
    "\n",
    "\n",
    "input_size = 100\n",
    "features_size = 16\n",
    "nn.Sequential(\n",
    "    nn.ConvTranspose2d(input_size, features_size * 8, 4, 2, 1),\n",
    "    nn.ConvTranspose2d(features_size * 8, features_size * 4, 8, 4, 0),\n",
    "    nn.ConvTranspose2d(features_size * 4, features_size * 2, 8, 2, 0),\n",
    "    nn.ConvTranspose2d(features_size * 2, features_size * 2, 8, 2, 1),\n",
    "    nn.Conv2d(features_size * 2, 3, 1, 1, 0)\n",
    ")(torch.randn(1, input_size, 1, 1)).shape"
   ]
  },
  {
   "cell_type": "code",
   "execution_count": 2,
   "metadata": {},
   "outputs": [
    {
     "data": {
      "text/plain": [
       "torch.Size([1, 80, 64, 64])"
      ]
     },
     "execution_count": 2,
     "metadata": {},
     "output_type": "execute_result"
    }
   ],
   "source": [
    "input_size = 100\n",
    "features_size = 40\n",
    "sequence = nn.Sequential(\n",
    "    nn.ConvTranspose2d(input_size, features_size * 8, 4, 2, 1),\n",
    "    nn.ConvTranspose2d(features_size * 8, features_size * 4, 4, 2, 0),\n",
    "    nn.ConvTranspose2d(features_size * 4, features_size * 2, 4, 2, 0),\n",
    "    nn.ConvTranspose2d(features_size * 2, features_size * 2, 4, 2, 0),\n",
    "    nn.ConvTranspose2d(features_size * 2, features_size * 2, 4, 2, 0),\n",
    "    nn.ConvTranspose2d(features_size * 2, features_size * 2, 4, 1, 1),\n",
    "    nn.ConvTranspose2d(features_size * 2, features_size * 2, 4, 1, 0),\n",
    "    nn.Conv2d(features_size * 2, features_size * 2, 3, 1)\n",
    ")\n",
    "nn.ConvTranspose2d(input_size, features_size * 8, 4, 2, 1)(torch.randn((1, 100, 2, 2))).shape\n",
    "sequence(torch.randn((1, 100, 1, 1))).shape"
   ]
  },
  {
   "cell_type": "code",
   "execution_count": 7,
   "metadata": {},
   "outputs": [
    {
     "name": "stdout",
     "output_type": "stream",
     "text": [
      "Number of trainable parameters: 3.338645e+06\n",
      "Number of trainable parameters: 3.434243e+06\n",
      "Number of trainable parameters: 2.004160e+06\n"
     ]
    }
   ],
   "source": [
    "def trainable_params(model: nn.Module):\n",
    "    trainable_params = sum(p.numel() for p in model.parameters() if p.requires_grad)\n",
    "    print(f\"Number of trainable parameters: {trainable_params:e}\")\n",
    "trainable_params(Discriminator(35))\n",
    "trainable_params(Generator(150, 40))\n",
    "trainable_params(sequence)"
   ]
  },
  {
   "cell_type": "code",
   "execution_count": null,
   "metadata": {},
   "outputs": [],
   "source": []
  }
 ],
 "metadata": {
  "kernelspec": {
   "display_name": "base",
   "language": "python",
   "name": "python3"
  },
  "language_info": {
   "codemirror_mode": {
    "name": "ipython",
    "version": 3
   },
   "file_extension": ".py",
   "mimetype": "text/x-python",
   "name": "python",
   "nbconvert_exporter": "python",
   "pygments_lexer": "ipython3",
   "version": "3.11.13"
  }
 },
 "nbformat": 4,
 "nbformat_minor": 2
}
